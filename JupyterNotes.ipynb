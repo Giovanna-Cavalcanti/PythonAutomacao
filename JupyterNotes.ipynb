{
 "cells": [
  {
   "cell_type": "code",
   "execution_count": null,
   "metadata": {},
   "outputs": [],
   "source": [
    "import webbrowser\n",
    "\n",
    "webbrowser.open('https://www.canva.com')"
   ]
  },
  {
   "cell_type": "markdown",
   "metadata": {},
   "source": [
    "Módulo time"
   ]
  },
  {
   "cell_type": "code",
   "execution_count": null,
   "metadata": {},
   "outputs": [],
   "source": [
    "import re\n",
    "import os\n",
    "\n",
    "pasta = r'C:\\Users\\giova\\Downloads\\planilhasxlsx'\n",
    "\n",
    "texto_para_remover = '.tsv'\n",
    "\n",
    "arquivos = os.listdir(pasta)\n",
    "\n",
    "def remover_texto(nome):\n",
    "    nome = re.sub('.tsv', '', nome)\n",
    "    return nome\n",
    "\n",
    "for arquivo_fasta in arquivos:\n",
    "    if texto_para_remover in arquivo_fasta:\n",
    "        caminho_completo = os.path.join(pasta, arquivo_fasta)\n",
    "        novo_caminho = remover_texto(caminho_completo)\n",
    "        os.rename(caminho_completo, novo_caminho)\n",
    "        # print(novo_caminho)"
   ]
  },
  {
   "cell_type": "markdown",
   "metadata": {},
   "source": [
    "em cima tem um script que renomeia os arquivos que tem uma parte especifica que você deseja tirar, por exemplo, nesse caso eu tinha várias planilhas com '.tsv' no nome e queria tirar de todas de forma otimizada :D"
   ]
  },
  {
   "cell_type": "code",
   "execution_count": null,
   "metadata": {},
   "outputs": [],
   "source": [
    "import os \n",
    "\n",
    "folder_path = r'C:\\Users\\giova\\Downloads\\planilhasxlsx'\n",
    "\n",
    "for file_name in os.listdir(folder_path):\n",
    "    if file_name.endswith('.tsv'):\n",
    "        file_path = os.path.join(folder_path, file_name)\n",
    "        os.remove(file_path)\n",
    "        print(f'Removido: {file_path}')"
   ]
  },
  {
   "cell_type": "code",
   "execution_count": null,
   "metadata": {},
   "outputs": [],
   "source": [
    "\n",
    "file_path = r'C:\\Users\\giova\\OneDrive\\Área de Trabalho\\Python testes e estudos\\fastas\\Acanthoscurria_geniculata.fasta'\n",
    "\n",
    "palavra_para_remover = \"\\n\"\n",
    "\n",
    "# Abrir o arquivo de entrada para leitura\n",
    "with open(file_path, 'r') as file:\n",
    "    linhas = file.readlines()\n",
    "\n",
    "# Processar cada linha removendo a palavra específica\n",
    "linhas_modificadas = [linha.replace(palavra_para_remover, '') for linha in linhas]\n",
    "\n",
    "# Escrever as linhas modificadas no mesmo arquivo\n",
    "with open(file_path, 'w') as file:\n",
    "    file.writelines(linhas_modificadas)\n",
    "\n"
   ]
  },
  {
   "cell_type": "code",
   "execution_count": null,
   "metadata": {},
   "outputs": [],
   "source": [
    "# import os\n",
    "\n",
    "with open(r'C:\\Users\\giova\\OneDrive\\Área de Trabalho\\Python testes e estudos\\pepLer\\Acanthoscurria_geniculata.pep', 'r') as file:\n",
    "    conteudo = file.read()\n",
    "    \n",
    "\n",
    "inicio = conteudo.find(\"GAZS01005961\")\n",
    "fim = conteudo.find(\">\", inicio)\n",
    "\n",
    "if inicio != -1 and fim != -1:\n",
    "    substring = conteudo[inicio:fim]\n",
    "    print(substring)\n"
   ]
  },
  {
   "cell_type": "code",
   "execution_count": null,
   "metadata": {},
   "outputs": [],
   "source": [
    "#creation of the output files\n",
    "\n",
    "def ler_arquivo_codigos(caminho_arquivo):\n",
    "    with open(caminho_arquivo, 'r') as arquivo:\n",
    "        linhas = arquivo.readlines()\n",
    "    return [linha.strip() for linha in linhas]\n",
    "\n",
    "array_nomes = []\n",
    "\n",
    "for elemento in ler_arquivo_codigos(r'C:\\Users\\giova\\OneDrive\\Área de Trabalho\\Python testes e estudos\\dermonecrotics.txt'):\n",
    "    palavras = elemento.split(', ')\n",
    "    array_nomes.extend(palavras)\n",
    "\n",
    "lista_sem_codigos = [elemento for elemento in array_nomes if '.p' not in elemento]\n",
    "\n",
    "lista_sem_espacos = [elemento for elemento in lista_sem_codigos if elemento.strip() != '']\n",
    "\n",
    "with open(r'C:\\Users\\giova\\OneDrive\\Área de Trabalho\\Python testes e estudos\\nomes.txt', 'a')as file:\n",
    "    for nome in lista_sem_espacos:\n",
    "        file.write(nome + '\\n')"
   ]
  }
 ],
 "metadata": {
  "kernelspec": {
   "display_name": "Python 3",
   "language": "python",
   "name": "python3"
  },
  "language_info": {
   "codemirror_mode": {
    "name": "ipython",
    "version": 3
   },
   "file_extension": ".py",
   "mimetype": "text/x-python",
   "name": "python",
   "nbconvert_exporter": "python",
   "pygments_lexer": "ipython3",
   "version": "3.12.3"
  }
 },
 "nbformat": 4,
 "nbformat_minor": 2
}
