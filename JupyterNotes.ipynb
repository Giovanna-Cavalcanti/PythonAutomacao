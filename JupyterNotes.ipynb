{
 "cells": [
  {
   "cell_type": "code",
   "execution_count": null,
   "metadata": {},
   "outputs": [],
   "source": [
    "import webbrowser\n",
    "\n",
    "webbrowser.open('https://www.canva.com')"
   ]
  },
  {
   "cell_type": "markdown",
   "metadata": {},
   "source": [
    "Módulo time"
   ]
  },
  {
   "cell_type": "code",
   "execution_count": 2,
   "metadata": {},
   "outputs": [],
   "source": [
    "import re\n",
    "import os\n",
    "\n",
    "pasta = r'C:\\Users\\giova\\Downloads\\planilhasxlsx'\n",
    "\n",
    "texto_para_remover = '.tsv'\n",
    "\n",
    "arquivos = os.listdir(pasta)\n",
    "\n",
    "def remover_texto(nome):\n",
    "    nome = re.sub('.tsv', '', nome)\n",
    "    return nome\n",
    "\n",
    "for arquivo_fasta in arquivos:\n",
    "    if texto_para_remover in arquivo_fasta:\n",
    "        caminho_completo = os.path.join(pasta, arquivo_fasta)\n",
    "        novo_caminho = remover_texto(caminho_completo)\n",
    "        os.rename(caminho_completo, novo_caminho)\n",
    "        # print(novo_caminho)"
   ]
  },
  {
   "cell_type": "markdown",
   "metadata": {},
   "source": [
    "em cima tem um script que renomeia os arquivos que tem uma parte especifica que você deseja tirar, por exemplo, nesse caso eu tinha várias planilhas com '.tsv' no nome e queria tirar de todas de forma otimizada :D"
   ]
  },
  {
   "cell_type": "code",
   "execution_count": null,
   "metadata": {},
   "outputs": [],
   "source": [
    "import os \n",
    "\n",
    "folder_path = r'C:\\Users\\giova\\Downloads\\planilhasxlsx'\n",
    "\n",
    "for file_name in os.listdir(folder_path):\n",
    "    if file_name.endswith('.tsv'):\n",
    "        file_path = os.path.join(folder_path, file_name)\n",
    "        os.remove(file_path)\n",
    "        print(f'Removido: {file_path}')"
   ]
  }
 ],
 "metadata": {
  "kernelspec": {
   "display_name": "Python 3",
   "language": "python",
   "name": "python3"
  },
  "language_info": {
   "codemirror_mode": {
    "name": "ipython",
    "version": 3
   },
   "file_extension": ".py",
   "mimetype": "text/x-python",
   "name": "python",
   "nbconvert_exporter": "python",
   "pygments_lexer": "ipython3",
   "version": "3.12.3"
  }
 },
 "nbformat": 4,
 "nbformat_minor": 2
}
